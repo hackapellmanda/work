{
 "cells": [
  {
   "cell_type": "code",
   "execution_count": 19,
   "metadata": {
    "scrolled": true
   },
   "outputs": [
    {
     "name": "stdout",
     "output_type": "stream",
     "text": [
      "モジュールのロード\n",
      "python-izm\n",
      "関数：testを呼び出しました\n"
     ]
    }
   ],
   "source": [
    "print('モジュールのロード')\n",
    " \n",
    "def test():\n",
    "    print('関数：testを呼び出しました')\n",
    " \n",
    "if __name__ == '__main__':\n",
    " \n",
    "    print('python-izm')\n",
    "#   print('パイソンイズム')\n",
    "    test()"
   ]
  },
  {
   "cell_type": "code",
   "execution_count": 21,
   "metadata": {},
   "outputs": [
    {
     "name": "stdout",
     "output_type": "stream",
     "text": [
      "あなたの名前を教えてください。\n",
      ">> yoshi\n",
      "こんにちは！ yoshi さん！\n"
     ]
    }
   ],
   "source": [
    "print('あなたの名前を教えてください。')\n",
    " \n",
    "your_name = input('>> ')\n",
    " \n",
    "print('こんにちは！ {} さん！'.format(your_name))"
   ]
  },
  {
   "cell_type": "code",
   "execution_count": null,
   "metadata": {},
   "outputs": [],
   "source": []
  }
 ],
 "metadata": {
  "kernelspec": {
   "display_name": "Python 3",
   "language": "python",
   "name": "python3"
  },
  "language_info": {
   "codemirror_mode": {
    "name": "ipython",
    "version": 3
   },
   "file_extension": ".py",
   "mimetype": "text/x-python",
   "name": "python",
   "nbconvert_exporter": "python",
   "pygments_lexer": "ipython3",
   "version": "3.7.1"
  }
 },
 "nbformat": 4,
 "nbformat_minor": 2
}
